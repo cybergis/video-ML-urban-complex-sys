{
 "cells": [
  {
   "cell_type": "code",
   "execution_count": 1,
   "metadata": {},
   "outputs": [],
   "source": [
    "import numpy as np\n",
    "import matplotlib.pyplot as plt"
   ]
  },
  {
   "cell_type": "code",
   "execution_count": 27,
   "metadata": {},
   "outputs": [
    {
     "name": "stdout",
     "output_type": "stream",
     "text": [
      "(625, 625, 4, 100)\n"
     ]
    }
   ],
   "source": [
    "data = np.load('standard_simulated_data.npy')\n",
    "print(data.shape)\n",
    "\n",
    "channels = data.shape[2]\n",
    "x, y, c, t = data.shape\n",
    "new = data.reshape(t, c, x, y)"
   ]
  },
  {
   "cell_type": "code",
   "execution_count": 32,
   "metadata": {},
   "outputs": [
    {
     "name": "stderr",
     "output_type": "stream",
     "text": [
      "y = 441:   6%|▌         | 6/100 [00:03<00:51,  1.82it/s]\n"
     ]
    },
    {
     "ename": "KeyboardInterrupt",
     "evalue": "",
     "output_type": "error",
     "traceback": [
      "\u001b[0;31m---------------------------------------------------------------------------\u001b[0m",
      "\u001b[0;31mKeyboardInterrupt\u001b[0m                         Traceback (most recent call last)",
      "\u001b[1;32m/data/keeling/a/dkiv2/dkiv2/collaboration/flu8/ConvLSTM_pytorch/dataset.ipynb Cell 3\u001b[0m line \u001b[0;36m1\n\u001b[1;32m      <a href='vscode-notebook-cell://ssh-remote%2Bkeeling.earth.illinois.edu/data/keeling/a/dkiv2/dkiv2/collaboration/flu8/ConvLSTM_pytorch/dataset.ipynb#W3sdnNjb2RlLXJlbW90ZQ%3D%3D?line=8'>9</a>\u001b[0m y \u001b[39m=\u001b[39m x\u001b[39m*\u001b[39m\u001b[39m*\u001b[39m\u001b[39m2\u001b[39m\n\u001b[1;32m     <a href='vscode-notebook-cell://ssh-remote%2Bkeeling.earth.illinois.edu/data/keeling/a/dkiv2/dkiv2/collaboration/flu8/ConvLSTM_pytorch/dataset.ipynb#W3sdnNjb2RlLXJlbW90ZQ%3D%3D?line=9'>10</a>\u001b[0m pbar\u001b[39m.\u001b[39mset_description(\u001b[39m\"\u001b[39m\u001b[39my = \u001b[39m\u001b[39m%d\u001b[39;00m\u001b[39m\"\u001b[39m \u001b[39m%\u001b[39m y)\n\u001b[0;32m---> <a href='vscode-notebook-cell://ssh-remote%2Bkeeling.earth.illinois.edu/data/keeling/a/dkiv2/dkiv2/collaboration/flu8/ConvLSTM_pytorch/dataset.ipynb#W3sdnNjb2RlLXJlbW90ZQ%3D%3D?line=10'>11</a>\u001b[0m time\u001b[39m.\u001b[39;49msleep(\u001b[39m0.5\u001b[39;49m)\n",
      "\u001b[0;31mKeyboardInterrupt\u001b[0m: "
     ]
    }
   ],
   "source": [
    "from tqdm import tqdm\n",
    "import time\n",
    "\n",
    "pbar = tqdm(range(100), desc='description')\n",
    "\n",
    "x = 0\n",
    "for i in pbar:\n",
    "    x += i\n",
    "    y = x**2\n",
    "    pbar.set_description(\"y = %d\" % y)\n",
    "    time.sleep(0.5)"
   ]
  },
  {
   "cell_type": "code",
   "execution_count": null,
   "metadata": {},
   "outputs": [],
   "source": []
  }
 ],
 "metadata": {
  "kernelspec": {
   "display_name": "cv",
   "language": "python",
   "name": "python3"
  },
  "language_info": {
   "codemirror_mode": {
    "name": "ipython",
    "version": 3
   },
   "file_extension": ".py",
   "mimetype": "text/x-python",
   "name": "python",
   "nbconvert_exporter": "python",
   "pygments_lexer": "ipython3",
   "version": "3.9.18"
  }
 },
 "nbformat": 4,
 "nbformat_minor": 2
}
